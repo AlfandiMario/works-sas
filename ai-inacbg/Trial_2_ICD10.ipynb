{
 "cells": [
  {
   "cell_type": "code",
   "execution_count": null,
   "metadata": {},
   "outputs": [],
   "source": [
    "import pandas as pd\n",
    "\n",
    "icd10 = pd.read_csv('ICD10codes.csv', header=None)\n",
    "icd10"
   ]
  },
  {
   "cell_type": "code",
   "execution_count": null,
   "metadata": {},
   "outputs": [],
   "source": [
    "# data preprocessing\n",
    "# s[:3]: Mengambil tiga karakter pertama dari string s.\n",
    "# s[3:]: Mengambil karakter keempat dan seterusnya.\n",
    "def add_dot(s):\n",
    "    return s[:3]+'.'+s[3:]\n",
    "\n",
    "for i in range(len(icd10)):\n",
    "    if len(icd10[0].iloc[i])>3:\n",
    "        icd10.loc[i, 4] = icd10[4].iloc[i] + ', ' + icd10[5].iloc[i]\n",
    "        icd10.loc[i, 2] = add_dot(icd10[2].iloc[i])\n",
    "\n",
    "icd10 = icd10.drop([0,1,3,5], axis=1)\n",
    "icd10 = icd10.set_axis(['target_text', 'input_text'], axis=1)\n",
    "\n",
    "for i in range(len(icd10)):\n",
    "    if '.' not in icd10['target_text'].iloc[i]:\n",
    "        icd10.loc[i, 'target_text'] = add_dot(icd10['target_text'].iloc[i])"
   ]
  },
  {
   "cell_type": "code",
   "execution_count": null,
   "metadata": {},
   "outputs": [],
   "source": [
    "icd10"
   ]
  },
  {
   "cell_type": "code",
   "execution_count": null,
   "metadata": {},
   "outputs": [],
   "source": [
    "from datasets import Dataset\n",
    "ds = Dataset.from_dict(icd10)"
   ]
  },
  {
   "cell_type": "code",
   "execution_count": null,
   "metadata": {},
   "outputs": [],
   "source": [
    "print({key: type(value) for key, value in icd10.items()})"
   ]
  },
  {
   "cell_type": "code",
   "execution_count": null,
   "metadata": {},
   "outputs": [],
   "source": [
    "from transformers import T5Tokenizer, T5ForConditionalGeneration\n",
    "import torch\n",
    "\n",
    "# loading the t5-small model\n",
    "model_name = 't5-small'\n",
    "tokenizer = T5Tokenizer.from_pretrained(model_name)\n",
    "model = T5ForConditionalGeneration.from_pretrained(model_name)"
   ]
  },
  {
   "cell_type": "code",
   "execution_count": null,
   "metadata": {},
   "outputs": [],
   "source": [
    "from transformers import DataCollatorWithPadding\n",
    "\n",
    "def tokenize_function(df):\n",
    "    model_inputs = tokenizer(df[\"input_text\"], padding=\"max_length\", truncation=True, max_length=128)\n",
    "    labels = tokenizer(df[\"target_text\"], padding=\"max_length\", truncation=True, max_length=128)\n",
    "    model_inputs[\"labels\"] = labels[\"input_ids\"]\n",
    "    return model_inputs\n",
    "\n",
    "tokenized_datasets = ds.map(tokenize_function, batched=True)\n",
    "tokenized_datasets.set_format(\"torch\")\n",
    "\n",
    "data_collator = DataCollatorWithPadding(tokenizer)"
   ]
  },
  {
   "cell_type": "code",
   "execution_count": null,
   "metadata": {},
   "outputs": [],
   "source": [
    "# from transformers import TrainingArguments, Trainer\n",
    "\n",
    "# # Split dataset into train and validation\n",
    "# train_test_split = tokenized_datasets.train_test_split(test_size=0.1)\n",
    "# train_dataset = train_test_split[\"train\"]\n",
    "# val_dataset = train_test_split[\"test\"]\n",
    "\n",
    "\n",
    "# # Define training arguments\n",
    "# training_args = TrainingArguments(\n",
    "#     output_dir=\"./results\",\n",
    "#     evaluation_strategy=\"epoch\",\n",
    "#     learning_rate=2e-5,\n",
    "#     per_device_train_batch_size=8,\n",
    "#     per_device_eval_batch_size=8,\n",
    "#     num_train_epochs=3,\n",
    "#     weight_decay=0.01,\n",
    "#     save_total_limit=2,\n",
    "# )\n",
    "\n",
    "# # Set up Trainer\n",
    "# trainer = Trainer(\n",
    "#     model=model,\n",
    "#     args=training_args,\n",
    "#     train_dataset=train_dataset,\n",
    "#     eval_dataset=val_dataset,\n",
    "#     data_collator=data_collator\n",
    "# )"
   ]
  },
  {
   "cell_type": "code",
   "execution_count": null,
   "metadata": {},
   "outputs": [],
   "source": [
    "# # Fine-tune the model\n",
    "# trainer.train()"
   ]
  },
  {
   "cell_type": "code",
   "execution_count": null,
   "metadata": {},
   "outputs": [],
   "source": [
    "# from transformers import T5ForConditionalGeneration, T5Tokenizer\n",
    "\n",
    "# # Misalnya, setelah fine-tuning\n",
    "# model = T5ForConditionalGeneration.from_pretrained('t5-small')\n",
    "# tokenizer = T5Tokenizer.from_pretrained('t5-small')\n",
    "\n",
    "# # Simpan model dan tokenizer\n",
    "# model.save_pretrained('working')  # Menyimpan model\n",
    "# tokenizer.save_pretrained('working')  # Menyimpan tokenizer"
   ]
  },
  {
   "cell_type": "code",
   "execution_count": null,
   "metadata": {},
   "outputs": [],
   "source": [
    "# from transformers import pipeline\n",
    "# from transformers import T5Tokenizer, T5ForConditionalGeneration\n"
   ]
  },
  {
   "cell_type": "code",
   "execution_count": null,
   "metadata": {},
   "outputs": [],
   "source": [
    "# custom_in = pd.read_csv('Diagnoses_list.csv', sep=';')\n",
    "# print(custom_in.head())"
   ]
  },
  {
   "cell_type": "code",
   "execution_count": null,
   "metadata": {},
   "outputs": [],
   "source": [
    "# # Read T_Sample data\n",
    "# def load_sample_data(t_sample):\n",
    "#     df = pd.read_csv(t_sample)\n",
    "#     return df['T_SampleName'].tolist()  # Assuming this is the column with diagnoses"
   ]
  },
  {
   "cell_type": "code",
   "execution_count": null,
   "metadata": {},
   "outputs": [],
   "source": [
    "#loading the custom input(given as csv in the assignment) and preprocessing it\n",
    "custom_in = pd.read_csv('Diagnoses_list_Sheet1.csv')\n",
    "for i in range(len(custom_in)):\n",
    "    custom_in.loc[i, 'Diagnoses_list'] = custom_in['Diagnoses_list'].iloc[i][1:-1]"
   ]
  },
  {
   "cell_type": "code",
   "execution_count": null,
   "metadata": {},
   "outputs": [],
   "source": [
    "from transformers import T5ForConditionalGeneration, T5Tokenizer\n",
    "\n",
    "# Memuat tokenizer dan model\n",
    "model_path = \"./working\"  # Sesuaikan dengan model yang kamu gunakan\n",
    "tokenizer = T5Tokenizer.from_pretrained(model_path)\n",
    "model = T5ForConditionalGeneration.from_pretrained(model_path)\n",
    "\n",
    "# # Memastikan model berada di perangkat yang benar\n",
    "device = 'cuda' if torch.cuda.is_available() else 'cpu'\n",
    "model = model.to(device)\n",
    "\n",
    "device # should be cuda"
   ]
  },
  {
   "cell_type": "code",
   "execution_count": null,
   "metadata": {},
   "outputs": [],
   "source": [
    "# Melanjutkan dengan input tensors\n",
    "model_inputs = tokenizer(list(custom_in[\"Diagnoses_list\"]), padding=\"max_length\", truncation=True, max_length=128, return_tensors='pt')\n",
    "inputs = {key: val.to(device) for key, val in model_inputs.items()}\n",
    "decoder_input_ids = torch.tensor([[tokenizer.pad_token_id]] * inputs[\"input_ids\"].size(0)).to(device)\n",
    "\n",
    "# Melakukan prediksi\n",
    "with torch.no_grad():\n",
    "    generated_ids = model.generate(\n",
    "        input_ids=inputs[\"input_ids\"],\n",
    "        attention_mask=inputs[\"attention_mask\"],\n",
    "        max_length=128,  \n",
    "        num_beams=4,     \n",
    "        early_stopping=True\n",
    "    )\n",
    "\n",
    "# Decode hasil prediksi\n",
    "predictions = [tokenizer.decode(g, skip_special_tokens=True) for g in generated_ids]\n"
   ]
  },
  {
   "cell_type": "code",
   "execution_count": null,
   "metadata": {},
   "outputs": [],
   "source": [
    "predictions"
   ]
  },
  {
   "cell_type": "code",
   "execution_count": null,
   "metadata": {},
   "outputs": [],
   "source": [
    "import torch\n",
    "from transformers import T5ForConditionalGeneration, T5Tokenizer\n",
    "\n",
    "model_path = \"./working\"  # Update with actual path\n",
    "tokenizer = T5Tokenizer.from_pretrained(model_path)\n",
    "model = T5ForConditionalGeneration.from_pretrained(model_path).to(\"cuda\")\n",
    "\n",
    "def predict_icd(diagnosis):\n",
    "    input_text = f\"ICD10: {diagnosis}\"\n",
    "    inputs = tokenizer(\n",
    "        input_text, \n",
    "        return_tensors=\"pt\", \n",
    "        max_length=128, \n",
    "        truncation=True, \n",
    "        padding=\"max_length\"\n",
    "    ).to(\"cuda\")\n",
    "    \n",
    "    outputs = model.generate(\n",
    "        input_ids=inputs.input_ids,\n",
    "        attention_mask=inputs.attention_mask,\n",
    "        max_length=15,\n",
    "        num_beams=4,\n",
    "        early_stopping=True\n",
    "    )\n",
    "    \n",
    "    return tokenizer.decode(outputs[0], skip_special_tokens=True)\n",
    "\n",
    "# Example usage\n",
    "sample_diagnosis = \"What is the shape of the earth?\"\n",
    "predicted_icd = predict_icd(sample_diagnosis)\n",
    "print(f\"Diagnosis: {sample_diagnosis}\\nPredicted ICD-10: {predicted_icd}\")"
   ]
  },
  {
   "cell_type": "code",
   "execution_count": null,
   "metadata": {},
   "outputs": [],
   "source": []
  }
 ],
 "metadata": {
  "kernelspec": {
   "display_name": "ai-inacbg",
   "language": "python",
   "name": "ai-inacbg"
  }
 },
 "nbformat": 4,
 "nbformat_minor": 4
}
