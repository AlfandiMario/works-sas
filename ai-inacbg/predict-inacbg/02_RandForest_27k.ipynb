{
 "cells": [
  {
   "cell_type": "markdown",
   "metadata": {},
   "source": [
    "## TL;DR\n",
    "*Train a model to predict INACBG based on ICD9 and ICD10 codes using Random Forest Classification.*\n",
    "\n",
    "**Data Input:** 27.5k data\n",
    "\n",
    "**Algorithm:** Random Forest\n",
    "\n",
    "**Test Data:** 10% dari 27.5k\n",
    "\n",
    "**Akurasi:** 0.370\n",
    "\n",
    "**Nama Model:** ./predict-inacbg/model/02_RF_27k.joblib"
   ]
  },
  {
   "cell_type": "code",
   "execution_count": 1,
   "metadata": {},
   "outputs": [
    {
     "name": "stdout",
     "output_type": "stream",
     "text": [
      "/home/intern/ai-inacbg\n"
     ]
    }
   ],
   "source": [
    "!pwd"
   ]
  },
  {
   "cell_type": "code",
   "execution_count": 2,
   "metadata": {},
   "outputs": [],
   "source": [
    "import pandas as pd\n",
    "df = pd.read_csv('ai_inacbg.csv', sep=';')\n",
    "\n",
    "nama_model = './predict-inacbg/model/02_RF_27k.joblib'\n",
    "nama_encoders = './predict-inacbg/encoders/02_RF_27k_encoder.joblib'"
   ]
  },
  {
   "cell_type": "markdown",
   "metadata": {},
   "source": [
    "## Explore Data"
   ]
  },
  {
   "cell_type": "code",
   "execution_count": 3,
   "metadata": {},
   "outputs": [
    {
     "name": "stdout",
     "output_type": "stream",
     "text": [
      "Dataset Shape: (278785, 10)\n",
      "\n",
      "Missing Values:\n",
      "ID                  0\n",
      "Tanggal             0\n",
      "RegID           71085\n",
      "SEPID               1\n",
      "INACBG          77440\n",
      "ICD10          159585\n",
      "ICD9           103427\n",
      "INACBG_Desc     77440\n",
      "ICD10_Desc     159586\n",
      "ICD9_Desc      103427\n",
      "dtype: int64\n",
      "\n",
      "Unique Values per Column:\n",
      "ID: 278785 unique values\n",
      "Tanggal: 154321 unique values\n",
      "RegID: 89244 unique values\n",
      "SEPID: 104825 unique values\n",
      "INACBG: 588 unique values\n",
      "ICD10: 4420 unique values\n",
      "ICD9: 916 unique values\n",
      "INACBG_Desc: 588 unique values\n",
      "ICD10_Desc: 4369 unique values\n",
      "ICD9_Desc: 919 unique values\n",
      "\n",
      "Sample Data:\n"
     ]
    },
    {
     "data": {
      "text/html": [
       "<div>\n",
       "<style scoped>\n",
       "    .dataframe tbody tr th:only-of-type {\n",
       "        vertical-align: middle;\n",
       "    }\n",
       "\n",
       "    .dataframe tbody tr th {\n",
       "        vertical-align: top;\n",
       "    }\n",
       "\n",
       "    .dataframe thead th {\n",
       "        text-align: right;\n",
       "    }\n",
       "</style>\n",
       "<table border=\"1\" class=\"dataframe\">\n",
       "  <thead>\n",
       "    <tr style=\"text-align: right;\">\n",
       "      <th></th>\n",
       "      <th>ID</th>\n",
       "      <th>Tanggal</th>\n",
       "      <th>RegID</th>\n",
       "      <th>SEPID</th>\n",
       "      <th>INACBG</th>\n",
       "      <th>ICD10</th>\n",
       "      <th>ICD9</th>\n",
       "      <th>INACBG_Desc</th>\n",
       "      <th>ICD10_Desc</th>\n",
       "      <th>ICD9_Desc</th>\n",
       "    </tr>\n",
       "  </thead>\n",
       "  <tbody>\n",
       "    <tr>\n",
       "      <th>0</th>\n",
       "      <td>1</td>\n",
       "      <td>2023-09-01 02:07:14</td>\n",
       "      <td>P230900003</td>\n",
       "      <td>0901R0030923V000001</td>\n",
       "      <td>Q-5-42-0</td>\n",
       "      <td>NaN</td>\n",
       "      <td>8907.0</td>\n",
       "      <td>PENYAKIT AKUT KECIL LAIN-LAIN</td>\n",
       "      <td>NaN</td>\n",
       "      <td>Consultation, described as comprehensive</td>\n",
       "    </tr>\n",
       "    <tr>\n",
       "      <th>1</th>\n",
       "      <td>2</td>\n",
       "      <td>2023-09-01 02:07:14</td>\n",
       "      <td>P230900003</td>\n",
       "      <td>0901R0030923V000001</td>\n",
       "      <td>Q-5-42-0</td>\n",
       "      <td>NaN</td>\n",
       "      <td>9922.0</td>\n",
       "      <td>PENYAKIT AKUT KECIL LAIN-LAIN</td>\n",
       "      <td>NaN</td>\n",
       "      <td>Injection of other anti-infective</td>\n",
       "    </tr>\n",
       "    <tr>\n",
       "      <th>2</th>\n",
       "      <td>3</td>\n",
       "      <td>2023-09-01 09:52:27</td>\n",
       "      <td>P230900494</td>\n",
       "      <td>0901R0030923V000428</td>\n",
       "      <td>Q-5-44-0</td>\n",
       "      <td>N30</td>\n",
       "      <td>8907.0</td>\n",
       "      <td>PENYAKIT KRONIS KECIL LAIN-LAIN</td>\n",
       "      <td>Cystitis</td>\n",
       "      <td>Consultation, described as comprehensive</td>\n",
       "    </tr>\n",
       "    <tr>\n",
       "      <th>3</th>\n",
       "      <td>4</td>\n",
       "      <td>2023-09-01 09:52:27</td>\n",
       "      <td>P230900494</td>\n",
       "      <td>0901R0030923V000428</td>\n",
       "      <td>Q-5-44-0</td>\n",
       "      <td>N30.9</td>\n",
       "      <td>NaN</td>\n",
       "      <td>PENYAKIT KRONIS KECIL LAIN-LAIN</td>\n",
       "      <td>Cystitis, unspecified</td>\n",
       "      <td>NaN</td>\n",
       "    </tr>\n",
       "    <tr>\n",
       "      <th>4</th>\n",
       "      <td>5</td>\n",
       "      <td>2023-09-01 13:34:31</td>\n",
       "      <td>P230900609</td>\n",
       "      <td>0901R0030923V001192</td>\n",
       "      <td>Q-5-44-0</td>\n",
       "      <td>C11</td>\n",
       "      <td>8907.0</td>\n",
       "      <td>PENYAKIT KRONIS KECIL LAIN-LAIN</td>\n",
       "      <td>Malignant neoplasm of nasopharynx</td>\n",
       "      <td>Consultation, described as comprehensive</td>\n",
       "    </tr>\n",
       "  </tbody>\n",
       "</table>\n",
       "</div>"
      ],
      "text/plain": [
       "   ID              Tanggal       RegID                SEPID    INACBG  ICD10  \\\n",
       "0   1  2023-09-01 02:07:14  P230900003  0901R0030923V000001  Q-5-42-0    NaN   \n",
       "1   2  2023-09-01 02:07:14  P230900003  0901R0030923V000001  Q-5-42-0    NaN   \n",
       "2   3  2023-09-01 09:52:27  P230900494  0901R0030923V000428  Q-5-44-0    N30   \n",
       "3   4  2023-09-01 09:52:27  P230900494  0901R0030923V000428  Q-5-44-0  N30.9   \n",
       "4   5  2023-09-01 13:34:31  P230900609  0901R0030923V001192  Q-5-44-0    C11   \n",
       "\n",
       "     ICD9                      INACBG_Desc                         ICD10_Desc  \\\n",
       "0  8907.0    PENYAKIT AKUT KECIL LAIN-LAIN                                NaN   \n",
       "1  9922.0    PENYAKIT AKUT KECIL LAIN-LAIN                                NaN   \n",
       "2  8907.0  PENYAKIT KRONIS KECIL LAIN-LAIN                           Cystitis   \n",
       "3     NaN  PENYAKIT KRONIS KECIL LAIN-LAIN              Cystitis, unspecified   \n",
       "4  8907.0  PENYAKIT KRONIS KECIL LAIN-LAIN  Malignant neoplasm of nasopharynx   \n",
       "\n",
       "                                  ICD9_Desc  \n",
       "0  Consultation, described as comprehensive  \n",
       "1         Injection of other anti-infective  \n",
       "2  Consultation, described as comprehensive  \n",
       "3                                       NaN  \n",
       "4  Consultation, described as comprehensive  "
      ]
     },
     "execution_count": 3,
     "metadata": {},
     "output_type": "execute_result"
    }
   ],
   "source": [
    "print(\"Dataset Shape:\", df.shape)\n",
    "print(\"\\nMissing Values:\")\n",
    "print(df.isnull().sum())\n",
    "print(\"\\nUnique Values per Column:\")\n",
    "for col in df.columns:\n",
    "    print(f\"{col}: {df[col].nunique()} unique values\")\n",
    "\n",
    "# Display sample of data\n",
    "print(\"\\nSample Data:\")\n",
    "df.head()"
   ]
  },
  {
   "cell_type": "markdown",
   "metadata": {},
   "source": [
    "### Take only necessary fields"
   ]
  },
  {
   "cell_type": "code",
   "execution_count": 4,
   "metadata": {},
   "outputs": [
    {
     "data": {
      "text/html": [
       "<div>\n",
       "<style scoped>\n",
       "    .dataframe tbody tr th:only-of-type {\n",
       "        vertical-align: middle;\n",
       "    }\n",
       "\n",
       "    .dataframe tbody tr th {\n",
       "        vertical-align: top;\n",
       "    }\n",
       "\n",
       "    .dataframe thead th {\n",
       "        text-align: right;\n",
       "    }\n",
       "</style>\n",
       "<table border=\"1\" class=\"dataframe\">\n",
       "  <thead>\n",
       "    <tr style=\"text-align: right;\">\n",
       "      <th></th>\n",
       "      <th>ICD9</th>\n",
       "      <th>ICD10</th>\n",
       "      <th>INACBG</th>\n",
       "    </tr>\n",
       "  </thead>\n",
       "  <tbody>\n",
       "    <tr>\n",
       "      <th>0</th>\n",
       "      <td>8907.0</td>\n",
       "      <td>NaN</td>\n",
       "      <td>Q-5-42-0</td>\n",
       "    </tr>\n",
       "    <tr>\n",
       "      <th>1</th>\n",
       "      <td>9922.0</td>\n",
       "      <td>NaN</td>\n",
       "      <td>Q-5-42-0</td>\n",
       "    </tr>\n",
       "    <tr>\n",
       "      <th>2</th>\n",
       "      <td>8907.0</td>\n",
       "      <td>N30</td>\n",
       "      <td>Q-5-44-0</td>\n",
       "    </tr>\n",
       "    <tr>\n",
       "      <th>3</th>\n",
       "      <td>NaN</td>\n",
       "      <td>N30.9</td>\n",
       "      <td>Q-5-44-0</td>\n",
       "    </tr>\n",
       "    <tr>\n",
       "      <th>4</th>\n",
       "      <td>8907.0</td>\n",
       "      <td>C11</td>\n",
       "      <td>Q-5-44-0</td>\n",
       "    </tr>\n",
       "  </tbody>\n",
       "</table>\n",
       "</div>"
      ],
      "text/plain": [
       "     ICD9  ICD10    INACBG\n",
       "0  8907.0    NaN  Q-5-42-0\n",
       "1  9922.0    NaN  Q-5-42-0\n",
       "2  8907.0    N30  Q-5-44-0\n",
       "3     NaN  N30.9  Q-5-44-0\n",
       "4  8907.0    C11  Q-5-44-0"
      ]
     },
     "execution_count": 4,
     "metadata": {},
     "output_type": "execute_result"
    }
   ],
   "source": [
    "df = df[['ICD9', 'ICD10', 'INACBG']]\n",
    "df.head()"
   ]
  },
  {
   "cell_type": "markdown",
   "metadata": {},
   "source": [
    "## Clean Data"
   ]
  },
  {
   "cell_type": "code",
   "execution_count": 5,
   "metadata": {},
   "outputs": [
    {
     "name": "stdout",
     "output_type": "stream",
     "text": [
      "Initial row count: 278785\n",
      "Rows removed due to null INACBG: 77440\n",
      "Rows removed due to both ICD9 and ICD10 being null: 81\n",
      "Final row count: 201264\n"
     ]
    }
   ],
   "source": [
    "df_clean = df.copy()\n",
    "# Print initial row count\n",
    "print(f\"Initial row count: {len(df_clean)}\")\n",
    "\n",
    "# 1. Remove rows where INACBG is null\n",
    "rows_before = len(df_clean)\n",
    "df_clean = df_clean.dropna(subset=['INACBG'])\n",
    "rows_removed = rows_before - len(df_clean)\n",
    "print(f\"Rows removed due to null INACBG: {rows_removed}\")\n",
    "\n",
    "# 2. Remove rows where both ICD9 and ICD10 are null\n",
    "rows_before = len(df_clean)\n",
    "df_clean = df_clean.dropna(subset=['ICD9', 'ICD10'], how='all')\n",
    "rows_removed = rows_before - len(df_clean)\n",
    "print(f\"Rows removed due to both ICD9 and ICD10 being null: {rows_removed}\")\n",
    "\n",
    "# Optional: Clean string values (remove whitespace, standardize case)\n",
    "string_columns = df_clean.select_dtypes(include=['object']).columns\n",
    "for col in string_columns:\n",
    "    df_clean[col] = df_clean[col].str.strip() if df_clean[col].dtype == 'object' else df_clean[col]\n",
    "    df_clean[col] = df_clean[col].str.upper() if df_clean[col].dtype == 'object' else df_clean[col]\n",
    "\n",
    "\n",
    "print(f\"Final row count: {len(df_clean)}\")"
   ]
  },
  {
   "cell_type": "code",
   "execution_count": 6,
   "metadata": {},
   "outputs": [
    {
     "name": "stdout",
     "output_type": "stream",
     "text": [
      "\n",
      "Dataset Shape After Cleaning: (201264, 3)\n",
      "\n",
      "Missing Values After Cleaning:\n",
      "ICD9      32009\n",
      "ICD10     84679\n",
      "INACBG        0\n",
      "dtype: int64\n",
      "\n",
      "Summary of cleaned data:\n",
      "Number of unique INACBG codes: 587\n",
      "Number of unique ICD9 codes: 902\n",
      "Number of unique ICD10 codes: 4409\n",
      "\n",
      "Rows with only ICD9: 84679\n",
      "Rows with only ICD10: 32009\n",
      "Rows with both ICD9 and ICD10: 84576\n"
     ]
    }
   ],
   "source": [
    "print(\"\\nDataset Shape After Cleaning:\", df_clean.shape)\n",
    "print(\"\\nMissing Values After Cleaning:\")\n",
    "print(df_clean.isnull().sum())\n",
    "\n",
    "# Analyze remaining data\n",
    "print(\"\\nSummary of cleaned data:\")\n",
    "print(\"Number of unique INACBG codes:\", df_clean['INACBG'].nunique())\n",
    "print(\"Number of unique ICD9 codes:\", df_clean['ICD9'].nunique())\n",
    "print(\"Number of unique ICD10 codes:\", df_clean['ICD10'].nunique())\n",
    "\n",
    "# Check for rows with only ICD9 or only ICD10\n",
    "only_icd9 = df_clean['ICD9'].notna() & df_clean['ICD10'].isna()\n",
    "only_icd10 = df_clean['ICD10'].notna() & df_clean['ICD9'].isna()\n",
    "\n",
    "print(f\"\\nRows with only ICD9: {sum(only_icd9)}\")\n",
    "print(f\"Rows with only ICD10: {sum(only_icd10)}\")\n",
    "print(f\"Rows with both ICD9 and ICD10: {sum(df_clean['ICD9'].notna() & df_clean['ICD10'].notna())}\")\n"
   ]
  },
  {
   "cell_type": "markdown",
   "metadata": {},
   "source": [
    "### Take data where ICD9, ICD10, and INACBG unique"
   ]
  },
  {
   "cell_type": "code",
   "execution_count": 7,
   "metadata": {},
   "outputs": [],
   "source": [
    "df_clean = df_clean.drop_duplicates(subset=['ICD9', 'ICD10', 'INACBG'], keep='first')"
   ]
  },
  {
   "cell_type": "markdown",
   "metadata": {},
   "source": [
    "### Data Check After Clean"
   ]
  },
  {
   "cell_type": "code",
   "execution_count": 8,
   "metadata": {},
   "outputs": [
    {
     "name": "stdout",
     "output_type": "stream",
     "text": [
      "<class 'pandas.core.frame.DataFrame'>\n",
      "Index: 27500 entries, 0 to 278771\n",
      "Data columns (total 3 columns):\n",
      " #   Column  Non-Null Count  Dtype  \n",
      "---  ------  --------------  -----  \n",
      " 0   ICD9    24461 non-null  float64\n",
      " 1   ICD10   22711 non-null  object \n",
      " 2   INACBG  27500 non-null  object \n",
      "dtypes: float64(1), object(2)\n",
      "memory usage: 859.4+ KB\n"
     ]
    }
   ],
   "source": [
    "df_clean.reset_index(drop=True, inplace=False)\n",
    "df_clean.info()"
   ]
  },
  {
   "cell_type": "markdown",
   "metadata": {},
   "source": [
    "## Data Prep"
   ]
  },
  {
   "cell_type": "code",
   "execution_count": 9,
   "metadata": {},
   "outputs": [],
   "source": [
    "import numpy as np\n",
    "from sklearn.model_selection import train_test_split\n",
    "from sklearn.preprocessing import LabelEncoder\n",
    "from sklearn.ensemble import RandomForestClassifier\n",
    "from sklearn.metrics import classification_report, accuracy_score\n",
    "import matplotlib.pyplot as plt\n",
    "import seaborn as sns"
   ]
  },
  {
   "cell_type": "code",
   "execution_count": 10,
   "metadata": {},
   "outputs": [],
   "source": [
    "def prepare_data(df):\n",
    "    # Create a copy to avoid modifying original data\n",
    "    df = df.copy()\n",
    "    \n",
    "    # Print initial data types\n",
    "    print(\"Initial data types:\")\n",
    "    print(df.dtypes)\n",
    "    \n",
    "    # Convert numeric values to strings and handle missing values\n",
    "    df['ICD9'] = df['ICD9'].astype(str)\n",
    "    df['ICD10'] = df['ICD10'].astype(str)\n",
    "    \n",
    "    # Replace 'nan' strings with 'MISSING'\n",
    "    df['ICD9'] = df['ICD9'].replace('nan', 'MISSING')\n",
    "    df['ICD10'] = df['ICD10'].replace('nan', 'MISSING')\n",
    "    \n",
    "    # Initialize encoders\n",
    "    icd9_encoder = LabelEncoder()\n",
    "    icd10_encoder = LabelEncoder()\n",
    "    inacbg_encoder = LabelEncoder()\n",
    "    \n",
    "    # Encode the features and target\n",
    "    X_icd9 = icd9_encoder.fit_transform(df['ICD9'])\n",
    "    X_icd10 = icd10_encoder.fit_transform(df['ICD10'])\n",
    "    y = inacbg_encoder.fit_transform(df['INACBG'].astype(str))\n",
    "    \n",
    "    # Print unique values count after encoding\n",
    "    print(\"\\nUnique values after encoding:\")\n",
    "    print(f\"ICD9: {len(np.unique(X_icd9))} unique values\")\n",
    "    print(f\"ICD10: {len(np.unique(X_icd10))} unique values\")\n",
    "    print(f\"INACBG: {len(np.unique(y))} unique values\")\n",
    "    \n",
    "    # Combine features\n",
    "    X = np.column_stack((X_icd9, X_icd10))\n",
    "    \n",
    "    return X, y, (icd9_encoder, icd10_encoder, inacbg_encoder)\n"
   ]
  },
  {
   "cell_type": "code",
   "execution_count": 11,
   "metadata": {},
   "outputs": [
    {
     "name": "stdout",
     "output_type": "stream",
     "text": [
      "Step 1: Preparing data...\n",
      "Initial data types:\n",
      "ICD9      float64\n",
      "ICD10      object\n",
      "INACBG     object\n",
      "dtype: object\n",
      "\n",
      "Unique values after encoding:\n",
      "ICD9: 903 unique values\n",
      "ICD10: 4410 unique values\n",
      "INACBG: 587 unique values\n"
     ]
    }
   ],
   "source": [
    "# Prepare data and set encoders\n",
    "print(\"Step 1: Preparing data...\")\n",
    "X, y, encoders = prepare_data(df_clean)"
   ]
  },
  {
   "cell_type": "markdown",
   "metadata": {},
   "source": [
    "## Data Split"
   ]
  },
  {
   "cell_type": "code",
   "execution_count": 12,
   "metadata": {},
   "outputs": [],
   "source": [
    "from sklearn.model_selection import train_test_split\n",
    "from collections import Counter"
   ]
  },
  {
   "cell_type": "code",
   "execution_count": 13,
   "metadata": {},
   "outputs": [],
   "source": [
    "# Hanya mengambil baris yang punya minimal 2 counts \n",
    "def split_data(X, y, min_samples_per_class=2):\n",
    "    print(\"Analyzing initial class distribution...\")\n",
    "    class_counts = analyze_class_distribution(y)\n",
    "    \n",
    "    # Create a mask for samples with sufficient class representation\n",
    "    valid_classes = [class_label for class_label, count \n",
    "                    in class_counts.items() if count >= min_samples_per_class]\n",
    "    mask = np.isin(y, valid_classes)\n",
    "    \n",
    "    # Filter X and y\n",
    "    X_filtered = X[mask]\n",
    "    y_filtered = y[mask]\n",
    "    \n",
    "    print(f\"\\nRemoved {sum(~mask)} samples from rare classes\")\n",
    "    print(f\"Remaining samples: {len(y_filtered)}\")\n",
    "    \n",
    "    try:\n",
    "        # First split: Train + Validation vs Test (80:20)\n",
    "        X_temp, X_test, y_temp, y_test = train_test_split(\n",
    "            X_filtered, \n",
    "            y_filtered,\n",
    "            test_size=0.1,\n",
    "            random_state=42,\n",
    "            stratify=y_filtered \n",
    "        )\n",
    "        \n",
    "        # Second split: Train vs Validation (80:20 of the remaining data)\n",
    "        X_train, X_val, y_train, y_val = train_test_split(\n",
    "            X_temp, \n",
    "            y_temp,\n",
    "            test_size=0.2,\n",
    "            random_state=42,\n",
    "            stratify=y_temp\n",
    "        )\n",
    "\n",
    "        # Test Data = 10% x full data\n",
    "        # Train Data = 80% x (full data - test)\n",
    "        # Validation Data = 20% x (full data - test)\n",
    "        # Stratified: memastikan distribusi kelas ketika data split tetap dipertahankan\n",
    "        \n",
    "        # Print split sizes\n",
    "        print(\"\\nData Split Sizes:\")\n",
    "        print(f\"Training set: {X_train.shape[0]} samples\")\n",
    "        print(f\"Validation set: {X_val.shape[0]} samples\")\n",
    "        print(f\"Test set: {X_test.shape[0]} samples\")\n",
    "        \n",
    "        # Analyze class distribution in each split\n",
    "        print(\"\\nAnalyzing class distribution in splits...\")\n",
    "        print(\"Training set:\")\n",
    "        analyze_class_distribution(y_train)\n",
    "        print(\"\\nValidation set:\")\n",
    "        analyze_class_distribution(y_val)\n",
    "        print(\"\\nTest set:\")\n",
    "        analyze_class_distribution(y_test)\n",
    "        \n",
    "        return X_train, X_val, X_test, y_train, y_val, y_test\n",
    "        \n",
    "    except ValueError as e:\n",
    "        print(\"\\nError in splitting data:\", str(e))\n",
    "        print(\"Please try adjusting the min_samples_per_class parameter or use a different splitting strategy\")\n",
    "        raise\n",
    "\n",
    "def analyze_class_distribution(y):\n",
    "    # Analyze class distribution. Yang dihitung hanya field INACBG karena targetnya\n",
    "    class_counts = Counter(y)\n",
    "    print(\"\\nClass distribution analysis:\")\n",
    "    print(f\"Total number of classes: {len(class_counts)}\")\n",
    "    print(f\"Minimum samples in a class: {min(class_counts.values())}\")\n",
    "    print(f\"Maximum samples in a class: {max(class_counts.values())}\")\n",
    "    \n",
    "    # Count classes with few samples\n",
    "    rare_classes = sum(1 for count in class_counts.values() if count < 3)\n",
    "    print(f\"Number of classes with less than 3 samples: {rare_classes}\")\n",
    "    \n",
    "    return class_counts\n",
    "\n",
    "\n",
    "# Function to get detailed statistics about your data\n",
    "def get_data_statistics(df, X, y):\n",
    "    print(\"\\nDetailed Data Statistics:\")\n",
    "    print(f\"Total samples: {len(df)}\")\n",
    "    print(f\"Features shape: {X.shape}\")\n",
    "    \n",
    "    # Analyze INACBG distribution\n",
    "    inacbg_counts = df['INACBG'].value_counts()\n",
    "    print(f\"\\nINACBG Distribution:\")\n",
    "    print(f\"Number of unique INACBG codes: {len(inacbg_counts)}\")\n",
    "    print(f\"Top 5 most common INACBG codes:\")\n",
    "    print(inacbg_counts.head())\n",
    "    print(f\"\\nBottom 5 least common INACBG codes:\")\n",
    "    print(inacbg_counts.tail())\n",
    "    \n",
    "    return inacbg_counts"
   ]
  },
  {
   "cell_type": "code",
   "execution_count": 14,
   "metadata": {},
   "outputs": [
    {
     "name": "stdout",
     "output_type": "stream",
     "text": [
      "\n",
      "Detailed Data Statistics:\n",
      "Total samples: 27500\n",
      "Features shape: (27500, 2)\n",
      "\n",
      "INACBG Distribution:\n",
      "Number of unique INACBG codes: 587\n",
      "Top 5 most common INACBG codes:\n",
      "INACBG\n",
      "Q-5-44-0    6810\n",
      "M-3-16-0    1189\n",
      "H-3-12-0     987\n",
      "Z-3-27-0     758\n",
      "Z-3-16-0     657\n",
      "Name: count, dtype: int64\n",
      "\n",
      "Bottom 5 least common INACBG codes:\n",
      "INACBG\n",
      "C-3-15-0    2\n",
      "U-2-21-0    2\n",
      "C-3-17-0    2\n",
      "U-3-12-0    2\n",
      "C-3-14-0    1\n",
      "Name: count, dtype: int64\n",
      "Analyzing initial class distribution...\n",
      "\n",
      "Class distribution analysis:\n",
      "Total number of classes: 587\n",
      "Minimum samples in a class: 1\n",
      "Maximum samples in a class: 6810\n",
      "Number of classes with less than 3 samples: 16\n",
      "\n",
      "Removed 1 samples from rare classes\n",
      "Remaining samples: 27499\n",
      "\n",
      "Data Split Sizes:\n",
      "Training set: 19799 samples\n",
      "Validation set: 4950 samples\n",
      "Test set: 2750 samples\n",
      "\n",
      "Analyzing class distribution in splits...\n",
      "Training set:\n",
      "\n",
      "Class distribution analysis:\n",
      "Total number of classes: 586\n",
      "Minimum samples in a class: 2\n",
      "Maximum samples in a class: 4903\n",
      "Number of classes with less than 3 samples: 38\n",
      "\n",
      "Validation set:\n",
      "\n",
      "Class distribution analysis:\n",
      "Total number of classes: 571\n",
      "Minimum samples in a class: 1\n",
      "Maximum samples in a class: 1226\n",
      "Number of classes with less than 3 samples: 268\n",
      "\n",
      "Test set:\n",
      "\n",
      "Class distribution analysis:\n",
      "Total number of classes: 484\n",
      "Minimum samples in a class: 1\n",
      "Maximum samples in a class: 681\n",
      "Number of classes with less than 3 samples: 299\n"
     ]
    }
   ],
   "source": [
    "stats = get_data_statistics(df_clean, X, y)\n",
    "    \n",
    "# Then try splitting with different minimum samples threshold\n",
    "try:\n",
    "    X_train, X_val, X_test, y_train, y_val, y_test = split_data(X, y, min_samples_per_class=2)\n",
    "except ValueError:\n",
    "    print(\"\\nTrying with higher minimum samples threshold...\")\n",
    "    X_train, X_val, X_test, y_train, y_val, y_test = split_data(X, y, min_samples_per_class=3)"
   ]
  },
  {
   "cell_type": "markdown",
   "metadata": {},
   "source": [
    "## Train"
   ]
  },
  {
   "cell_type": "code",
   "execution_count": 15,
   "metadata": {},
   "outputs": [],
   "source": [
    "import pandas as pd\n",
    "import numpy as np\n",
    "from sklearn.ensemble import RandomForestClassifier\n",
    "from sklearn.model_selection import GridSearchCV\n",
    "from sklearn.metrics import accuracy_score, classification_report\n",
    "import matplotlib.pyplot as plt\n",
    "import seaborn as sns\n",
    "import joblib\n",
    "\n",
    "def train_model_with_gridsearch(X_train, X_val, y_train, y_val, model_path=nama_model, encoders_path=nama_encoders):\n",
    "    # Define parameter grid\n",
    "    param_grid = {\n",
    "        'n_estimators': [150],  # Number of trees\n",
    "        'max_depth': [20],        # Maximum depth of trees\n",
    "        'min_samples_split': [5],  # Minimum samples required to split\n",
    "        'min_samples_leaf': [2],    # Minimum samples required at leaf node\n",
    "        'max_features': ['sqrt']   # Number of features to consider at each split\n",
    "    }\n",
    "    \n",
    "    # Initialize Random Forest\n",
    "    rf = RandomForestClassifier(random_state=42, n_jobs=2)\n",
    "    \n",
    "    # Initialize GridSearchCV\n",
    "    grid_search = GridSearchCV(\n",
    "        estimator=rf,\n",
    "        param_grid=param_grid,\n",
    "        cv=3,\n",
    "        n_jobs=2,\n",
    "        verbose=2,\n",
    "        scoring='accuracy'\n",
    "    )\n",
    "    \n",
    "    # Fit the model\n",
    "    print(\"Starting GridSearchCV...\")\n",
    "    grid_search.fit(X_train, y_train)\n",
    "    \n",
    "    # Print best parameters and score\n",
    "    print(\"\\nBest parameters:\", grid_search.best_params_)\n",
    "    print(\"Best cross-validation score:\", grid_search.best_score_)\n",
    "    \n",
    "    # Evaluate on validation set\n",
    "    val_pred = grid_search.predict(X_val)\n",
    "    val_accuracy = accuracy_score(y_val, val_pred)\n",
    "    print(\"\\nValidation set accuracy:\", val_accuracy)\n",
    "    \n",
    "    # Save the best model to a file\n",
    "    best_model = grid_search.best_estimator_\n",
    "    joblib.dump(best_model, model_path)\n",
    "    print(f\"Model saved to {model_path}\")\n",
    "    \n",
    "    # Save encoders (if applicable)\n",
    "    # Assuming you have encoders for ICD9, ICD10, and INACBG\n",
    "    encoders_2 = {\n",
    "        'icd9_encoder': encoders[0],  # Replace with your actual encoder\n",
    "        'icd10_encoder': encoders[1],  # Replace with your actual encoder\n",
    "        'inacbg_encoder': encoders[2]  # Replace with your actual encoder\n",
    "    }\n",
    "    joblib.dump(encoders_2, encoders_path)\n",
    "    print(f\"Encoders saved to {encoders_path}\")\n",
    "    \n",
    "    return best_model, grid_search.best_params_\n",
    "\n",
    "def analyze_feature_importance(model, feature_names=['ICD9', 'ICD10']):\n",
    "    # Get feature importance\n",
    "    importances = model.feature_importances_\n",
    "    indices = np.argsort(importances)[::-1]\n",
    "    \n",
    "    # Print feature ranking\n",
    "    print(\"\\nFeature ranking:\")\n",
    "    for f in range(len(feature_names)):\n",
    "        print(\"%d. %s (%f)\" % (f + 1, feature_names[indices[f]], importances[indices[f]]))\n",
    "    \n",
    "    # Plot feature importance\n",
    "    plt.figure(figsize=(10, 6))\n",
    "    plt.title(\"Feature Importances\")\n",
    "    plt.bar(range(len(feature_names)), importances[indices])\n",
    "    plt.xticks(range(len(feature_names)), [feature_names[i] for i in indices], rotation=45)\n",
    "    plt.tight_layout()\n",
    "    plt.show()\n",
    "\n",
    "def plot_learning_curves(model, X_train, X_val, y_train, y_val):\n",
    "    train_scores = []\n",
    "    val_scores = []\n",
    "    train_sizes = np.linspace(0.1, 1.0, 10)\n",
    "    \n",
    "    for size in train_sizes:\n",
    "        # Get subset of training data\n",
    "        train_subset_size = int(len(X_train) * size)\n",
    "        X_train_subset = X_train[:train_subset_size]\n",
    "        y_train_subset = y_train[:train_subset_size]\n",
    "        \n",
    "        # Train model\n",
    "        model.fit(X_train_subset, y_train_subset)\n",
    "        \n",
    "        # Calculate scores\n",
    "        train_scores.append(accuracy_score(y_train_subset, model.predict(X_train_subset)))\n",
    "        val_scores.append(accuracy_score(y_val, model.predict(X_val)))\n",
    "    \n",
    "    # Plot learning curves\n",
    "    plt.figure(figsize=(10, 6))\n",
    "    plt.plot(train_sizes, train_scores, label='Training Score')\n",
    "    plt.plot(train_sizes, val_scores, label='Validation Score')\n",
    "    plt.xlabel('Training Set Size')\n",
    "    plt.ylabel('Accuracy Score')\n",
    "    plt.title('Learning Curves')\n",
    "    plt.legend()\n",
    "    plt.grid(True)\n",
    "    plt.show()"
   ]
  },
  {
   "cell_type": "code",
   "execution_count": 16,
   "metadata": {},
   "outputs": [
    {
     "name": "stdout",
     "output_type": "stream",
     "text": [
      "Starting GridSearchCV...\n",
      "Fitting 3 folds for each of 1 candidates, totalling 3 fits\n"
     ]
    },
    {
     "name": "stderr",
     "output_type": "stream",
     "text": [
      "/home/intern/ai-inacbg/inacbg-env/lib/python3.12/site-packages/sklearn/model_selection/_split.py:805: UserWarning: The least populated class in y has only 2 members, which is less than n_splits=3.\n",
      "  warnings.warn(\n"
     ]
    },
    {
     "name": "stdout",
     "output_type": "stream",
     "text": [
      "[CV] END max_depth=20, max_features=sqrt, min_samples_leaf=2, min_samples_split=5, n_estimators=150; total time=   4.3s\n",
      "[CV] END max_depth=20, max_features=sqrt, min_samples_leaf=2, min_samples_split=5, n_estimators=150; total time=   3.4s\n",
      "\n",
      "Best parameters: {'max_depth': 20, 'max_features': 'sqrt', 'min_samples_leaf': 2, 'min_samples_split': 5, 'n_estimators': 150}\n",
      "Best cross-validation score: 0.3729988244316173\n",
      "\n",
      "Validation set accuracy: 0.3707070707070707\n",
      "Model saved to ./predict-inacbg/model/02_RF_27k.joblib\n",
      "Encoders saved to ./predict-inacbg/encoders/02_RF_27k_encoder.joblib\n"
     ]
    }
   ],
   "source": [
    "best_model, best_params = train_model_with_gridsearch(X_train, X_val, y_train, y_val)"
   ]
  },
  {
   "cell_type": "code",
   "execution_count": 17,
   "metadata": {},
   "outputs": [
    {
     "name": "stdout",
     "output_type": "stream",
     "text": [
      "\n",
      "Feature ranking:\n",
      "1. ICD10 (0.514238)\n",
      "2. ICD9 (0.485762)\n"
     ]
    },
    {
     "data": {
      "image/png": "[encoded data removed]",
      "text/plain": [
       "<Figure size 1000x600 with 1 Axes>"
      ]
     },
     "metadata": {},
     "output_type": "display_data"
    }
   ],
   "source": [
    "# Analyze feature importance\n",
    "analyze_feature_importance(best_model)"
   ]
  },
  {
   "cell_type": "markdown",
   "metadata": {},
   "source": [
    "## Evaluating"
   ]
  },
  {
   "cell_type": "code",
   "execution_count": 18,
   "metadata": {},
   "outputs": [
    {
     "data": {
      "image/png": "[encoded data removed]",
      "text/plain": [
       "<Figure size 1000x600 with 1 Axes>"
      ]
     },
     "metadata": {},
     "output_type": "display_data"
    }
   ],
   "source": [
    "# Plot learning curves\n",
    "plot_learning_curves(best_model, X_train, X_val, y_train, y_val)"
   ]
  },
  {
   "cell_type": "markdown",
   "metadata": {},
   "source": [
    "## Predict Test"
   ]
  },
  {
   "cell_type": "code",
   "execution_count": 19,
   "metadata": {},
   "outputs": [],
   "source": [
    "import joblib\n",
    "import numpy as np\n",
    "import pandas as pd\n",
    "\n",
    "def load_model_and_encoders(model_path='inacbg_model.joblib', encoders_path='encoders.joblib'):\n",
    "    \"\"\"Load the trained model and encoders\"\"\"\n",
    "    model = joblib.load(model_path)\n",
    "    encoders = joblib.load(encoders_path)\n",
    "    return model, encoders\n",
    "\n",
    "def predict_single_case(model, encoders, icd9, icd10, top_k=5):\n",
    "    \"\"\"Make prediction for a single case\"\"\"\n",
    "    icd9_encoder = encoders['icd9_encoder']\n",
    "    icd10_encoder = encoders['icd10_encoder']\n",
    "    inacbg_encoder = encoders['inacbg_encoder']\n",
    "    \n",
    "    # Handle missing values\n",
    "    icd9 = str(icd9) if pd.notna(icd9) else 'MISSING'\n",
    "    icd10 = str(icd10) if pd.notna(icd10) else 'MISSING'\n",
    "    \n",
    "    # Encode input\n",
    "    try:\n",
    "        X_icd9 = icd9_encoder.transform([icd9])\n",
    "        X_icd10 = icd10_encoder.transform([icd10])\n",
    "    except ValueError as e:\n",
    "        print(f\"Error: ICD code not found in training data: {str(e)}\")\n",
    "        return None\n",
    "    \n",
    "    # Combine features\n",
    "    X = np.column_stack((X_icd9, X_icd10))\n",
    "    \n",
    "    # Get probabilities\n",
    "    probabilities = model.predict_proba(X)[0]\n",
    "    \n",
    "    # Get top k predictions\n",
    "    top_indices = np.argsort(probabilities)[-top_k:][::-1]\n",
    "    top_codes = inacbg_encoder.inverse_transform(top_indices)\n",
    "    top_probs = probabilities[top_indices]\n",
    "    \n",
    "    return list(zip(top_codes, top_probs))"
   ]
  },
  {
   "cell_type": "code",
   "execution_count": 20,
   "metadata": {},
   "outputs": [
    {
     "data": {
      "text/html": [
       "<div>\n",
       "<style scoped>\n",
       "    .dataframe tbody tr th:only-of-type {\n",
       "        vertical-align: middle;\n",
       "    }\n",
       "\n",
       "    .dataframe tbody tr th {\n",
       "        vertical-align: top;\n",
       "    }\n",
       "\n",
       "    .dataframe thead th {\n",
       "        text-align: right;\n",
       "    }\n",
       "</style>\n",
       "<table border=\"1\" class=\"dataframe\">\n",
       "  <thead>\n",
       "    <tr style=\"text-align: right;\">\n",
       "      <th></th>\n",
       "      <th>ICD9</th>\n",
       "      <th>ICD10</th>\n",
       "      <th>INACBG</th>\n",
       "    </tr>\n",
       "  </thead>\n",
       "  <tbody>\n",
       "    <tr>\n",
       "      <th>0</th>\n",
       "      <td>8907.0</td>\n",
       "      <td>NaN</td>\n",
       "      <td>Q-5-42-0</td>\n",
       "    </tr>\n",
       "    <tr>\n",
       "      <th>1</th>\n",
       "      <td>9922.0</td>\n",
       "      <td>NaN</td>\n",
       "      <td>Q-5-42-0</td>\n",
       "    </tr>\n",
       "    <tr>\n",
       "      <th>2</th>\n",
       "      <td>8907.0</td>\n",
       "      <td>N30</td>\n",
       "      <td>Q-5-44-0</td>\n",
       "    </tr>\n",
       "    <tr>\n",
       "      <th>3</th>\n",
       "      <td>NaN</td>\n",
       "      <td>N30.9</td>\n",
       "      <td>Q-5-44-0</td>\n",
       "    </tr>\n",
       "    <tr>\n",
       "      <th>4</th>\n",
       "      <td>8907.0</td>\n",
       "      <td>C11</td>\n",
       "      <td>Q-5-44-0</td>\n",
       "    </tr>\n",
       "    <tr>\n",
       "      <th>5</th>\n",
       "      <td>NaN</td>\n",
       "      <td>C11.9</td>\n",
       "      <td>Q-5-44-0</td>\n",
       "    </tr>\n",
       "    <tr>\n",
       "      <th>6</th>\n",
       "      <td>8907.0</td>\n",
       "      <td>C31</td>\n",
       "      <td>Q-5-44-0</td>\n",
       "    </tr>\n",
       "    <tr>\n",
       "      <th>7</th>\n",
       "      <td>9059.0</td>\n",
       "      <td>C31.9</td>\n",
       "      <td>Q-5-44-0</td>\n",
       "    </tr>\n",
       "    <tr>\n",
       "      <th>8</th>\n",
       "      <td>2219.0</td>\n",
       "      <td>NaN</td>\n",
       "      <td>U-3-13-0</td>\n",
       "    </tr>\n",
       "    <tr>\n",
       "      <th>9</th>\n",
       "      <td>8907.0</td>\n",
       "      <td>J02.9</td>\n",
       "      <td>U-3-13-0</td>\n",
       "    </tr>\n",
       "    <tr>\n",
       "      <th>10</th>\n",
       "      <td>8907.0</td>\n",
       "      <td>C11</td>\n",
       "      <td>Q-5-44-0</td>\n",
       "    </tr>\n",
       "    <tr>\n",
       "      <th>11</th>\n",
       "      <td>NaN</td>\n",
       "      <td>C11.0</td>\n",
       "      <td>Q-5-44-0</td>\n",
       "    </tr>\n",
       "    <tr>\n",
       "      <th>12</th>\n",
       "      <td>8907.0</td>\n",
       "      <td>F32.1</td>\n",
       "      <td>F-5-10-0</td>\n",
       "    </tr>\n",
       "    <tr>\n",
       "      <th>13</th>\n",
       "      <td>9439.0</td>\n",
       "      <td>F32.9</td>\n",
       "      <td>F-5-10-0</td>\n",
       "    </tr>\n",
       "    <tr>\n",
       "      <th>14</th>\n",
       "      <td>9438.0</td>\n",
       "      <td>NaN</td>\n",
       "      <td>F-5-10-0</td>\n",
       "    </tr>\n",
       "  </tbody>\n",
       "</table>\n",
       "</div>"
      ],
      "text/plain": [
       "      ICD9  ICD10    INACBG\n",
       "0   8907.0    NaN  Q-5-42-0\n",
       "1   9922.0    NaN  Q-5-42-0\n",
       "2   8907.0    N30  Q-5-44-0\n",
       "3      NaN  N30.9  Q-5-44-0\n",
       "4   8907.0    C11  Q-5-44-0\n",
       "5      NaN  C11.9  Q-5-44-0\n",
       "6   8907.0    C31  Q-5-44-0\n",
       "7   9059.0  C31.9  Q-5-44-0\n",
       "8   2219.0    NaN  U-3-13-0\n",
       "9   8907.0  J02.9  U-3-13-0\n",
       "10  8907.0    C11  Q-5-44-0\n",
       "11     NaN  C11.0  Q-5-44-0\n",
       "12  8907.0  F32.1  F-5-10-0\n",
       "13  9439.0  F32.9  F-5-10-0\n",
       "14  9438.0    NaN  F-5-10-0"
      ]
     },
     "execution_count": 20,
     "metadata": {},
     "output_type": "execute_result"
    }
   ],
   "source": [
    "df.head(15)"
   ]
  },
  {
   "cell_type": "code",
   "execution_count": 21,
   "metadata": {},
   "outputs": [
    {
     "name": "stdout",
     "output_type": "stream",
     "text": [
      "INACBG: Q-5-43-0, Confidence: 0.505\n",
      "INACBG: Z-3-22-0, Confidence: 0.132\n",
      "INACBG: C-3-10-0, Confidence: 0.066\n",
      "INACBG: K-2-53-0, Confidence: 0.040\n",
      "INACBG: Z-3-18-0, Confidence: 0.039\n"
     ]
    },
    {
     "name": "stdout",
     "output_type": "stream",
     "text": [
      "[CV] END max_depth=20, max_features=sqrt, min_samples_leaf=2, min_samples_split=5, n_estimators=150; total time=   4.3s\n"
     ]
    }
   ],
   "source": [
    "# Load model dan encoders\n",
    "model, encoders = load_model_and_encoders()\n",
    "\n",
    "# Prediksi single case\n",
    "predictions = predict_single_case(model, encoders, \"9059.0\", \"C31.9\")\n",
    "\n",
    "for code, prob in predictions:\n",
    "    print(f\"INACBG: {code}, Confidence: {prob:.3f}\")"
   ]
  },
  {
   "cell_type": "code",
   "execution_count": null,
   "metadata": {},
   "outputs": [],
   "source": []
  }
 ],
 "metadata": {
  "kernelspec": {
   "display_name": "ai-inacbg",
   "language": "python",
   "name": "ai-inacbg"
  },
  "language_info": {
   "codemirror_mode": {
    "name": "ipython",
    "version": 3
   },
   "file_extension": ".py",
   "mimetype": "text/x-python",
   "name": "python",
   "nbconvert_exporter": "python",
   "pygments_lexer": "ipython3",
   "version": "3.12.3"
  }
 },
 "nbformat": 4,
 "nbformat_minor": 2
}
